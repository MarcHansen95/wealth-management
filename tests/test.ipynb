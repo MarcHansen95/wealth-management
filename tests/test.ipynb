{
 "cells": [
  {
   "cell_type": "code",
   "execution_count": 1,
   "id": "83c3aacf",
   "metadata": {},
   "outputs": [],
   "source": [
    "from income_streams.rate_pension import RatePension"
   ]
  },
  {
   "cell_type": "code",
   "execution_count": 2,
   "id": "623bf355",
   "metadata": {},
   "outputs": [],
   "source": [
    "pens = RatePension(\n",
    "    initial_value = 10000000,  # Initial capital\n",
    "    yearly_contribution = 10000,      # Annual interest rate\n",
    ")"
   ]
  },
  {
   "cell_type": "code",
   "execution_count": 4,
   "id": "e6fa92d0",
   "metadata": {},
   "outputs": [
    {
     "data": {
      "text/html": [
       "<div>\n",
       "<style scoped>\n",
       "    .dataframe tbody tr th:only-of-type {\n",
       "        vertical-align: middle;\n",
       "    }\n",
       "\n",
       "    .dataframe tbody tr th {\n",
       "        vertical-align: top;\n",
       "    }\n",
       "\n",
       "    .dataframe thead th {\n",
       "        text-align: right;\n",
       "    }\n",
       "</style>\n",
       "<table border=\"1\" class=\"dataframe\">\n",
       "  <thead>\n",
       "    <tr style=\"text-align: right;\">\n",
       "      <th></th>\n",
       "      <th>Årlig udbetaling (efter PAL-skat)</th>\n",
       "      <th>Saldo efter år</th>\n",
       "    </tr>\n",
       "    <tr>\n",
       "      <th>År</th>\n",
       "      <th></th>\n",
       "      <th></th>\n",
       "    </tr>\n",
       "  </thead>\n",
       "  <tbody>\n",
       "    <tr>\n",
       "      <th>1</th>\n",
       "      <td>2.663745e+06</td>\n",
       "      <td>1.817409e+07</td>\n",
       "    </tr>\n",
       "    <tr>\n",
       "      <th>2</th>\n",
       "      <td>2.663745e+06</td>\n",
       "      <td>1.658789e+07</td>\n",
       "    </tr>\n",
       "    <tr>\n",
       "      <th>3</th>\n",
       "      <td>2.663745e+06</td>\n",
       "      <td>1.490764e+07</td>\n",
       "    </tr>\n",
       "    <tr>\n",
       "      <th>4</th>\n",
       "      <td>2.663745e+06</td>\n",
       "      <td>1.312777e+07</td>\n",
       "    </tr>\n",
       "    <tr>\n",
       "      <th>5</th>\n",
       "      <td>2.663745e+06</td>\n",
       "      <td>1.124237e+07</td>\n",
       "    </tr>\n",
       "    <tr>\n",
       "      <th>6</th>\n",
       "      <td>2.663745e+06</td>\n",
       "      <td>9.245184e+06</td>\n",
       "    </tr>\n",
       "    <tr>\n",
       "      <th>7</th>\n",
       "      <td>2.663745e+06</td>\n",
       "      <td>7.129586e+06</td>\n",
       "    </tr>\n",
       "    <tr>\n",
       "      <th>8</th>\n",
       "      <td>2.663745e+06</td>\n",
       "      <td>4.888554e+06</td>\n",
       "    </tr>\n",
       "    <tr>\n",
       "      <th>9</th>\n",
       "      <td>2.663745e+06</td>\n",
       "      <td>2.514651e+06</td>\n",
       "    </tr>\n",
       "    <tr>\n",
       "      <th>10</th>\n",
       "      <td>2.663745e+06</td>\n",
       "      <td>4.377216e-08</td>\n",
       "    </tr>\n",
       "  </tbody>\n",
       "</table>\n",
       "</div>"
      ],
      "text/plain": [
       "    Årlig udbetaling (efter PAL-skat)  Saldo efter år\n",
       "År                                                   \n",
       "1                        2.663745e+06    1.817409e+07\n",
       "2                        2.663745e+06    1.658789e+07\n",
       "3                        2.663745e+06    1.490764e+07\n",
       "4                        2.663745e+06    1.312777e+07\n",
       "5                        2.663745e+06    1.124237e+07\n",
       "6                        2.663745e+06    9.245184e+06\n",
       "7                        2.663745e+06    7.129586e+06\n",
       "8                        2.663745e+06    4.888554e+06\n",
       "9                        2.663745e+06    2.514651e+06\n",
       "10                       2.663745e+06    4.377216e-08"
      ]
     },
     "execution_count": 4,
     "metadata": {},
     "output_type": "execute_result"
    }
   ],
   "source": [
    "y_p = pens.yearly_payout( 19671514, pens.yearly_return, 10)\n",
    "y_p"
   ]
  },
  {
   "cell_type": "code",
   "execution_count": null,
   "id": "b5b1d779",
   "metadata": {},
   "outputs": [],
   "source": []
  },
  {
   "cell_type": "code",
   "execution_count": null,
   "id": "937357f1",
   "metadata": {},
   "outputs": [],
   "source": []
  }
 ],
 "metadata": {
  "kernelspec": {
   "display_name": "wealth-management-a49C6ZXX-py3.12",
   "language": "python",
   "name": "python3"
  },
  "language_info": {
   "codemirror_mode": {
    "name": "ipython",
    "version": 3
   },
   "file_extension": ".py",
   "mimetype": "text/x-python",
   "name": "python",
   "nbconvert_exporter": "python",
   "pygments_lexer": "ipython3",
   "version": "3.12.6"
  }
 },
 "nbformat": 4,
 "nbformat_minor": 5
}
